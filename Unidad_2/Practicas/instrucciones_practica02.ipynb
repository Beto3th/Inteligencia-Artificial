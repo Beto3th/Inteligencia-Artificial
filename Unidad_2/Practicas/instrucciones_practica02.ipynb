{
 "cells": [
  {
   "cell_type": "markdown",
   "metadata": {},
   "source": [
    "## Práctica 2: Búsqueda Informada\n",
    "### Nombre del alumno: Roberto Pichardo Mier\n",
    "#### Grupo: 6CM2\n",
    "#### Fecha: 4 de marzo de 2024"
   ]
  },
  {
   "cell_type": "markdown",
   "metadata": {},
   "source": [
    "## Introducción\n",
    "En el campo de la inteligencia artificial y la búsqueda en espacios de estado, los algoritmos de búsqueda desempeñan un papel fundamental en la resolución de problemas complejos. Uno de estos algoritmos es la búsqueda A*, que combina la eficiencia de búsqueda de algoritmos informados con la capacidad de encontrar soluciones óptimas. Esta práctica tiene como objetivo explorar la implementación y aplicación de la búsqueda A* en un entorno de juego de laberinto."
   ]
  },
  {
   "cell_type": "markdown",
   "metadata": {},
   "source": [
    "## Descripción\n",
    "El algoritmo de búsqueda A* es un algoritmo de búsqueda heurística ampliamente utilizado en inteligencia artificial y juegos para encontrar el camino más corto entre un nodo inicial y un nodo objetivo en un grafo ponderado. A* combina la búsqueda en anchura con la búsqueda de coste más bajo, utilizando una función heurística para evaluar el coste esperado de moverse desde un nodo dado hasta el objetivo.\n",
    "\n",
    "En esta práctica, se implementará el algoritmo de búsqueda A* en un entorno bidimensional que representa un mapa o un laberinto. Los estudiantes deberán diseñar una función heurística adecuada para el problema dado y utilizarla para guiar la búsqueda hacia la solución óptima."
   ]
  },
  {
   "cell_type": "markdown",
   "metadata": {},
   "source": [
    "## Entorno\n",
    "\n",
    "El entorno del juego es un laberinto representado como una matriz de tamaño N x N, donde cada celda puede ser un pasillo o una pared. La entrada al laberinto está ubicada en la esquina superior izquierda y la salida está ubicada en la esquina inferior derecha. Los movimientos permitidos son hacia arriba, abajo, izquierda y derecha, pero no a través de las paredes.\n",
    "\n",
    "### Laberinto:\n",
    "\n",
    "El laberinto de tamaño 5x5 que utilizaremos para esta práctica:\n",
    "\n",
    "| I |   | # |   |   |   |\n",
    "|---|---|---|---|---|---|\n",
    "|   |   | # |   | # |   |\n",
    "|   |   |   |   | # |   |\n",
    "|   | # |   | # |   | # |\n",
    "|   |   |   |   |   | O |\n",
    "\n",
    "\n",
    "Donde:\n",
    "\n",
    "- I representa la casilla de inicio.\n",
    "- O representa la casilla de objetivo.\n",
    "- \\# representa una pared.\n",
    "- Los espacios en blanco representan pasillos donde se puede mover.\n"
   ]
  },
  {
   "cell_type": "markdown",
   "metadata": {},
   "source": [
    "## Desarrollo\n",
    "1. Implementar el algoritmo de Búsqueda A* en Python\n",
    "3. Encontrar la heurística para resolver el laberinto dado\n",
    "2. Implementar una función para visualizar el laberinto y la solución encontrada por el algoritmo de búsqueda A*\n",
    "3. Análisis del desarrollo y resultados de la práctica"
   ]
  },
  {
   "cell_type": "code",
   "execution_count": 48,
   "metadata": {},
   "outputs": [],
   "source": [
    "import heapq"
   ]
  },
  {
   "cell_type": "code",
   "execution_count": 49,
   "metadata": {},
   "outputs": [],
   "source": [
    "class Nodo:\n",
    "    def __init__(self, estado, padre=None, accion=None, g=0, h=0):\n",
    "        self.estado = estado\n",
    "        self.padre = padre\n",
    "        self.accion = accion\n",
    "        self.g = g  # Costo acumulado desde el inicio hasta este nodo\n",
    "        self.h = h  # Heurística estimada desde este nodo al objetivo\n",
    "    \n",
    "    def __lt__(self,otro):\n",
    "        return (self.g + self.h) < (otro.g + otro.h)\n",
    "    "
   ]
  },
  {
   "cell_type": "code",
   "execution_count": 50,
   "metadata": {},
   "outputs": [],
   "source": [
    "class A_Estrella():\n",
    "    def __init__(self, estado_inicio, estado_objetivo, sucesores, heuristica):\n",
    "        self.estado_inicio = estado_inicio\n",
    "        self.estado_objetivo = estado_objetivo\n",
    "        self.sucesores = sucesores\n",
    "        self.heuristica = heuristica \n",
    "    \n",
    "    def buscar_camino(self):\n",
    "        lista_abierta = []\n",
    "        lista_cerrada = set()\n",
    "\n",
    "        nodo_inicio = Nodo(estado=self.estado_inicio, g=0, h=self.heuristica(self.estado_inicio, self.estado_objetivo))\n",
    "        heapq.heappush(lista_abierta, nodo_inicio)\n",
    "\n",
    "        while lista_abierta:\n",
    "            nodo_actual = heapq.heappop(lista_abierta)\n",
    "\n",
    "            if nodo_actual.estado == self.estado_objetivo:\n",
    "                camino = []\n",
    "                while nodo_actual:\n",
    "                    camino.append((nodo_actual.estado, nodo_actual.accion))\n",
    "                    nodo_actual = nodo_actual.padre\n",
    "                return camino[::-1]\n",
    "            \n",
    "            lista_cerrada.add(nodo_actual.estado)\n",
    "            \n",
    "            for accion, estado_sucesor, costo_paso in self.sucesores(nodo_actual.estado):\n",
    "                if estado_sucesor in lista_cerrada:\n",
    "                    continue\n",
    "\n",
    "                g = nodo_actual.g + costo_paso\n",
    "                h = self.heuristica(estado_sucesor, self.estado_objetivo)\n",
    "                nodo_sucesor = Nodo(estado=estado_sucesor, padre = nodo_actual, accion= accion, g = g , h=h)\n",
    "                heapq.heappush(lista_abierta, nodo_sucesor)\n",
    "        \n",
    "        return None"
   ]
  },
  {
   "cell_type": "code",
   "execution_count": 51,
   "metadata": {},
   "outputs": [],
   "source": [
    "# Definir laberinto \n",
    "laberinto = [\n",
    "    [\" \", \" \", \"#\", \" \", \" \", \" \"],\n",
    "    [\" \", \" \", \"#\", \" \", \"#\", \" \"],\n",
    "    [\" \", \" \", \" \", \" \", \"#\", \" \"], \n",
    "    [\" \", \"#\", \" \", \"#\", \" \", \"#\"], \n",
    "    [\" \", \" \", \" \", \" \", \" \", \" \"]\n",
    "]"
   ]
  },
  {
   "cell_type": "code",
   "execution_count": 52,
   "metadata": {},
   "outputs": [
    {
     "data": {
      "text/plain": [
       "[[' ', ' ', '#', ' ', ' ', ' '],\n",
       " [' ', ' ', '#', ' ', '#', ' '],\n",
       " [' ', ' ', ' ', ' ', '#', ' '],\n",
       " [' ', '#', ' ', '#', ' ', '#'],\n",
       " [' ', ' ', ' ', ' ', ' ', ' ']]"
      ]
     },
     "execution_count": 52,
     "metadata": {},
     "output_type": "execute_result"
    }
   ],
   "source": [
    "laberinto"
   ]
  },
  {
   "cell_type": "code",
   "execution_count": 53,
   "metadata": {},
   "outputs": [],
   "source": [
    "\n",
    "def sucesores(estado):\n",
    "    sucesores =[]\n",
    "    movimientos = [(1,0), (-1,0), (0,1), (0,-1)] # MOVIMIENTOS PERMITIDOS\n",
    "    for dx, dy in movimientos:\n",
    "        nuevo_x, nuevo_y = estado[0] + dx, estado[1] + dy\n",
    "        if 0 <= nuevo_x < len(laberinto) and 0 <= nuevo_y < len(laberinto[0]) and laberinto[nuevo_x][nuevo_y] != '#':\n",
    "            sucesores.append(((dx, dy), (nuevo_x, nuevo_y), 1))  # El costo de moverse es 1\n",
    "    return sucesores\n"
   ]
  },
  {
   "cell_type": "code",
   "execution_count": 54,
   "metadata": {},
   "outputs": [],
   "source": [
    "def heuristica(estado, estado_objetivo):\n",
    "    return abs(estado[0] - estado_objetivo[0]) + abs(estado[1] - estado_objetivo[1])\n"
   ]
  },
  {
   "cell_type": "code",
   "execution_count": 55,
   "metadata": {},
   "outputs": [],
   "source": [
    "estado_inicio = (0,0)\n",
    "esatdo_objetivo = (4,5)"
   ]
  },
  {
   "cell_type": "code",
   "execution_count": 56,
   "metadata": {},
   "outputs": [],
   "source": [
    "busqueda = A_Estrella(estado_inicio, esatdo_objetivo, sucesores, heuristica)"
   ]
  },
  {
   "cell_type": "code",
   "execution_count": 57,
   "metadata": {},
   "outputs": [
    {
     "name": "stdout",
     "output_type": "stream",
     "text": [
      "Camino encontrado:  [((0, 0), None), ((1, 0), (1, 0)), ((2, 0), (1, 0)), ((3, 0), (1, 0)), ((4, 0), (1, 0)), ((4, 1), (0, 1)), ((4, 2), (0, 1)), ((4, 3), (0, 1)), ((4, 4), (0, 1)), ((4, 5), (0, 1))]\n"
     ]
    }
   ],
   "source": [
    "camino=busqueda.buscar_camino()\n",
    "print(\"Camino encontrado: \", camino)"
   ]
  },
  {
   "cell_type": "code",
   "execution_count": 61,
   "metadata": {},
   "outputs": [],
   "source": [
    "def imprimir_laberinto(laberinto):\n",
    "    if camino:\n",
    "        # Crear una copia del laberinto para no modificar el original\n",
    "        laberinto_con_camino = [list(fila) for fila in laberinto]\n",
    "        # Marcar el camino en la copia del laberinto\n",
    "        for paso, _ in camino:\n",
    "            fila, columna = paso\n",
    "            laberinto_con_camino[fila][columna] = '-'\n",
    "        # Imprimir el laberinto con el camino marcado\n",
    "        for fila in laberinto_con_camino:\n",
    "            print(' '.join(fila))\n",
    "    else:\n",
    "        print(\"No se encontró un camino\")"
   ]
  },
  {
   "cell_type": "code",
   "execution_count": 62,
   "metadata": {},
   "outputs": [
    {
     "name": "stdout",
     "output_type": "stream",
     "text": [
      "Laberinto:\n",
      "-   #      \n",
      "-   #   #  \n",
      "-       #  \n",
      "- #   #   #\n",
      "- - - - - -\n"
     ]
    }
   ],
   "source": [
    "print(\"Laberinto:\")\n",
    "imprimir_laberinto(laberinto)"
   ]
  },
  {
   "cell_type": "code",
   "execution_count": null,
   "metadata": {},
   "outputs": [],
   "source": []
  }
 ],
 "metadata": {
  "kernelspec": {
   "display_name": "base",
   "language": "python",
   "name": "python3"
  },
  "language_info": {
   "codemirror_mode": {
    "name": "ipython",
    "version": 3
   },
   "file_extension": ".py",
   "mimetype": "text/x-python",
   "name": "python",
   "nbconvert_exporter": "python",
   "pygments_lexer": "ipython3",
   "version": "3.11.5"
  }
 },
 "nbformat": 4,
 "nbformat_minor": 2
}

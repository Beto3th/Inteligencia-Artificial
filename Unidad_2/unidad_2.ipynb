{
 "cells": [
  {
   "cell_type": "code",
   "execution_count": 22,
   "metadata": {},
   "outputs": [],
   "source": [
    "# Libreria para grafos \n",
    "import heapq"
   ]
  },
  {
   "cell_type": "code",
   "execution_count": 23,
   "metadata": {},
   "outputs": [],
   "source": [
    "def calcular_heuristica(nodo, objetivo):\n",
    "    print(f\"Nodo actual {nodo}\")\n",
    "    print(f\"Objetivo: {objetivo}\")\n",
    "\n",
    "    return abs(nodo[0]-objetivo[0]) + abs(nodo[1] - objetivo[1])"
   ]
  },
  {
   "cell_type": "code",
   "execution_count": 24,
   "metadata": {},
   "outputs": [],
   "source": [
    "def construir_camino(inicio, objetivo, nodo_anterior):\n",
    "    nodo_actual = objetivo\n",
    "    camino = [nodo_actual]\n",
    "    while nodo_actual!=inicio:\n",
    "        nodo_actual = nodo_anterior[nodo_actual]\n",
    "        camino.append(nodo_actual)\n",
    "    \n",
    "    #Voltear la lista para que vaya de inicio a objetivo\n",
    "    camino.reverse()\n",
    "    return camino"
   ]
  },
  {
   "cell_type": "code",
   "execution_count": 25,
   "metadata": {},
   "outputs": [],
   "source": [
    "def busqueda_voraz(inicio, objetivo, grafo):\n",
    "    print(\"Iniciando busqueda...\")\n",
    "    frontera = [(calcular_heuristica(inicio, objetivo), inicio)]\n",
    "    nodo_anterior = {} # Diccionario para construir el camnino\n",
    "    explorados = set() # Conjunto de nodos explorados\n",
    "    \n",
    "    while frontera:\n",
    "        h, nodo_actual = heapq.heappop(frontera)\n",
    "        print(f\"Explorando el nodo: {nodo_actual}\")\n",
    "\n",
    "        if nodo_actual==objetivo:\n",
    "            print(\"Nodo objetivo encontrado\")\n",
    "            return construir_camino(inicio, objetivo, nodo_anterior)\n",
    "        \n",
    "        explorados.add(nodo_actual)\n",
    "\n",
    "        for vecino, _ in grafo[nodo_actual]:\n",
    "            if vecino not in explorados:\n",
    "                heapq.heappush(frontera, (calcular_heuristica(vecino, objetivo), vecino))\n",
    "            nodo_anterior[vecino] = nodo_actual\n",
    "    \n",
    "    print(\"No se encontro un camino\")\n",
    "    return None"
   ]
  },
  {
   "cell_type": "code",
   "execution_count": 26,
   "metadata": {},
   "outputs": [],
   "source": [
    "def imprimir_grafo(grafo):\n",
    "    print(\"Grafo\")\n",
    "    for nodo, vecino in grafo.items():\n",
    "        print(f\"Nodo {nodo} : {vecino}\")"
   ]
  },
  {
   "cell_type": "code",
   "execution_count": 27,
   "metadata": {},
   "outputs": [],
   "source": [
    "grafo ={\n",
    "    (0,0): [((0,1), 1), ((1,0), 1)],\n",
    "    (0,1): [((0,0), 1), ((1,1), 1)],\n",
    "    (1,0): [((0,0), 1), ((1,1), 1)],\n",
    "    (1,1): [((0,1), 1), ((1,0), 1)]\n",
    "}"
   ]
  },
  {
   "cell_type": "code",
   "execution_count": 28,
   "metadata": {},
   "outputs": [
    {
     "name": "stdout",
     "output_type": "stream",
     "text": [
      "Grafo\n",
      "Nodo (0, 0) : [((0, 1), 1), ((1, 0), 1)]\n",
      "Nodo (0, 1) : [((0, 0), 1), ((1, 1), 1)]\n",
      "Nodo (1, 0) : [((0, 0), 1), ((1, 1), 1)]\n",
      "Nodo (1, 1) : [((0, 1), 1), ((1, 0), 1)]\n"
     ]
    }
   ],
   "source": [
    "imprimir_grafo(grafo)"
   ]
  },
  {
   "cell_type": "code",
   "execution_count": 29,
   "metadata": {},
   "outputs": [],
   "source": [
    "inicio = (0,0)\n",
    "objetivo = (1,1)"
   ]
  },
  {
   "cell_type": "code",
   "execution_count": 30,
   "metadata": {},
   "outputs": [
    {
     "name": "stdout",
     "output_type": "stream",
     "text": [
      "Ejecutando la búsqueda voraz\n",
      "Iniciando busqueda...\n",
      "Nodo actual (0, 0)\n",
      "Objetivo: (1, 1)\n",
      "Explorando el nodo: (0, 0)\n",
      "Nodo actual (0, 1)\n",
      "Objetivo: (1, 1)\n",
      "Nodo actual (1, 0)\n",
      "Objetivo: (1, 1)\n",
      "Explorando el nodo: (0, 1)\n",
      "Nodo actual (1, 1)\n",
      "Objetivo: (1, 1)\n",
      "Explorando el nodo: (1, 1)\n",
      "Nodo objetivo encontrado\n",
      "[(0, 0), (0, 1), (1, 1)]\n"
     ]
    }
   ],
   "source": [
    "print(\"Ejecutando la búsqueda voraz\")\n",
    "print(busqueda_voraz(inicio, objetivo, grafo))"
   ]
  },
  {
   "cell_type": "code",
   "execution_count": null,
   "metadata": {},
   "outputs": [],
   "source": []
  }
 ],
 "metadata": {
  "kernelspec": {
   "display_name": "base",
   "language": "python",
   "name": "python3"
  },
  "language_info": {
   "codemirror_mode": {
    "name": "ipython",
    "version": 3
   },
   "file_extension": ".py",
   "mimetype": "text/x-python",
   "name": "python",
   "nbconvert_exporter": "python",
   "pygments_lexer": "ipython3",
   "version": "3.11.5"
  }
 },
 "nbformat": 4,
 "nbformat_minor": 2
}

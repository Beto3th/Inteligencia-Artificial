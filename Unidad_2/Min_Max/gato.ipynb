{
 "cells": [
  {
   "cell_type": "code",
   "execution_count": null,
   "metadata": {},
   "outputs": [],
   "source": [
    "class Gato:\n",
    "    # Constructor\n",
    "    def __init__(self):\n",
    "        # Inicializar el tablero\n",
    "        self.tablero = [[' ' for _ in range(3)] for _ in range(3)]\n",
    "        self.jugador_actual = 'O'\n",
    "    \n",
    "    def print_tablero(self):\n",
    "        # Imprimir la matriz en forma de tablero\n",
    "        for fila in self.tablero:\n",
    "            print('|'.join(fila))\n",
    "            print('-'* 5)\n",
    "\n",
    "    def es_ganador(self, jugador):\n",
    "        # Verificar si el jugador ha ganado en alguna fila o columna\n",
    "        for i in range(3):\n",
    "            if all(self.tablero[i][j] == jugador for j in range(3)) or all(self.tablero[j][i] == jugador for j in range(3)):\n",
    "                return True\n",
    "            \n",
    "            #Verificar si el jugador ha ganado en diagonal\n",
    "            if all(self.tablero[i][i] == jugador for i in range(3) or all(self.tablero[2-i][i] == jugador for i in range(3))):\n",
    "                return True\n",
    "        return False"
   ]
  }
 ],
 "metadata": {
  "language_info": {
   "name": "python"
  }
 },
 "nbformat": 4,
 "nbformat_minor": 2
}

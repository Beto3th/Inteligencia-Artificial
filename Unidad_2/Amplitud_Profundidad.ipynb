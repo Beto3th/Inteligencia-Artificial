{
 "cells": [
  {
   "cell_type": "code",
   "execution_count": 5,
   "metadata": {},
   "outputs": [],
   "source": [
    "from collections import deque"
   ]
  },
  {
   "cell_type": "code",
   "execution_count": 1,
   "metadata": {},
   "outputs": [],
   "source": [
    "def buscar_amplitud(grafo, inicio):\n",
    "    # Espacio para guradar nodos visitados\n",
    "    visitados = set()\n",
    "    # Cola para guradar nodos en exploración \n",
    "    cola = deque([inicio])\n",
    "\n",
    "    while cola:\n",
    "        nodo = cola.popleft()\n",
    "        if nodo not in visitados:\n",
    "            print(nodo)\n",
    "            visitados.add(nodo)\n",
    "            # Actualizar la cola con el nuevo visitado\n",
    "            cola.extend(grafo[nodo] - visitados)"
   ]
  },
  {
   "cell_type": "code",
   "execution_count": 2,
   "metadata": {},
   "outputs": [],
   "source": [
    "def buscar_profundidad(grafo, inicio):\n",
    "    visitados = set()\n",
    "    # Pila para guardar nodos en exploracion  FILO\n",
    "    pila = [inicio]\n",
    "\n",
    "    while pila:\n",
    "        nodo = pila.pop()\n",
    "        if nodo not in visitados:\n",
    "            print(nodo)\n",
    "            visitados.add(nodo)\n",
    "            # Actualizo con los nodos restantes por visitar \n",
    "            pila.extend(grafo[nodo] - visitados)"
   ]
  },
  {
   "cell_type": "code",
   "execution_count": 3,
   "metadata": {},
   "outputs": [],
   "source": [
    "grafo = {\n",
    "    'A' : {'B', 'C'},\n",
    "    'B' : {'A', 'D', 'E'},\n",
    "    'C' : {'A', 'F'},\n",
    "    'D' : {'B'},\n",
    "    'E' : {'B', 'F'},\n",
    "    'F' : {'C', 'E'}\n",
    "}"
   ]
  },
  {
   "cell_type": "code",
   "execution_count": 6,
   "metadata": {},
   "outputs": [
    {
     "name": "stdout",
     "output_type": "stream",
     "text": [
      "A\n",
      "B\n",
      "C\n",
      "D\n",
      "E\n",
      "F\n",
      "None\n"
     ]
    }
   ],
   "source": [
    "print(buscar_amplitud(grafo, 'A'))"
   ]
  },
  {
   "cell_type": "code",
   "execution_count": 7,
   "metadata": {},
   "outputs": [
    {
     "name": "stdout",
     "output_type": "stream",
     "text": [
      "A\n",
      "C\n",
      "F\n",
      "E\n",
      "B\n",
      "D\n",
      "None\n"
     ]
    }
   ],
   "source": [
    "print(buscar_profundidad(grafo, 'A'))"
   ]
  },
  {
   "cell_type": "code",
   "execution_count": null,
   "metadata": {},
   "outputs": [],
   "source": []
  }
 ],
 "metadata": {
  "kernelspec": {
   "display_name": "base",
   "language": "python",
   "name": "python3"
  },
  "language_info": {
   "codemirror_mode": {
    "name": "ipython",
    "version": 3
   },
   "file_extension": ".py",
   "mimetype": "text/x-python",
   "name": "python",
   "nbconvert_exporter": "python",
   "pygments_lexer": "ipython3",
   "version": "3.11.5"
  }
 },
 "nbformat": 4,
 "nbformat_minor": 2
}

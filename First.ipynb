{
 "cells": [
  {
   "cell_type": "code",
   "execution_count": 44,
   "metadata": {},
   "outputs": [],
   "source": [
    "import random"
   ]
  },
  {
   "cell_type": "code",
   "execution_count": 45,
   "metadata": {},
   "outputs": [],
   "source": [
    "class Aspiradora:\n",
    "    \n",
    "    def __init__(self): # CONSTRUCTOR\n",
    "        # Definir la posicion inicial de la aspiradora\n",
    "        self.posicion = [0,0]\n",
    "    \n",
    "    def percibir(self, entorno):\n",
    "        # Persepcion del entrono actual\n",
    "        return entorno[self.posicion[0]][self.posicion[1]]\n",
    "    \n",
    "    def actuar(self, percepcion):\n",
    "        #  Simulacion de limpira si esta sucia la posicion en \n",
    "        # la que se enuentra la aspiradora\n",
    "        if percepcion == \"sucia\":\n",
    "            return \"limpiar\"\n",
    "        else:\n",
    "            movimiento = random.choice([\"izquierda\", \"derecha\", \"arriba\", \"abajo\"])\n",
    "            \n",
    "        return movimiento\n",
    "    \n",
    "    def limpiar(self, entorno, pasos=10):\n",
    "        print(\"Entorno inicial: \")\n",
    "        self.mostrar_entorno(entorno)\n",
    "\n",
    "        for paso in range(pasos):\n",
    "            percepcion= self.percibir(entorno)\n",
    "            accion =self.actuar(percepcion)\n",
    "\n",
    "            if accion==\"limpiar\":\n",
    "                entorno[self.posicion[0]][self.posicion[1]] = \"limpio\"\n",
    "                print(f\"Paso {paso +1}: Se limpio la posicion actual. \")\n",
    "            else:\n",
    "                self.moverse(accion)\n",
    "                print(f\"Paso {paso +1}: Se movio hacia {accion}. \")\n",
    "    \n",
    "        # MOSTRAR EL AMBIENTE ACTUALIZADO\n",
    "        self.mostrar_entorno(entorno)\n",
    "    \n",
    "    def moverse(self, direccion):\n",
    "        # Simular el movimiento a otro cuadrante del entorno \n",
    "        if direccion == \"izquerda\" and self.posicion[1] > 0:\n",
    "            self.posicion[1] -= 1\n",
    "        elif direccion == \"derecha\" and self.posicion[1] < 1:\n",
    "            self.posicion[1] += 1\n",
    "        elif direccion == \"arriba\" and self.posicion[0] > 0:\n",
    "            self.posicion[0] -= 1\n",
    "        elif direccion ==\"abajo\" and self.posicion[0] < 1:\n",
    "            self.posicion[0] += 1\n",
    "    \n",
    "    def mostrar_entorno(self, entorno):\n",
    "        # Mostrar el entorno actual\n",
    "        for fila in entorno:\n",
    "            print(\" \".join(fila))\n",
    "        print(\"\")"
   ]
  },
  {
   "cell_type": "code",
   "execution_count": 46,
   "metadata": {},
   "outputs": [],
   "source": [
    "# Lista de comprension \n",
    "entorno = [[\"sucia\" if random.random() < 0.5 else \"limpio\" for _ in range(2)] for _ in range(2)]"
   ]
  },
  {
   "cell_type": "code",
   "execution_count": 47,
   "metadata": {},
   "outputs": [
    {
     "data": {
      "text/plain": [
       "[['sucia', 'limpio'], ['sucia', 'limpio']]"
      ]
     },
     "execution_count": 47,
     "metadata": {},
     "output_type": "execute_result"
    }
   ],
   "source": [
    "entorno"
   ]
  },
  {
   "cell_type": "code",
   "execution_count": 48,
   "metadata": {},
   "outputs": [],
   "source": [
    "aspiradora = Aspiradora()"
   ]
  },
  {
   "cell_type": "code",
   "execution_count": 49,
   "metadata": {},
   "outputs": [
    {
     "name": "stdout",
     "output_type": "stream",
     "text": [
      "Entorno inicial: \n",
      "sucia limpio\n",
      "sucia limpio\n",
      "\n",
      "Paso 1: Se limpio la posicion actual. \n",
      "Paso 2: Se movio hacia abajo. \n",
      "Paso 3: Se limpio la posicion actual. \n",
      "Paso 4: Se movio hacia abajo. \n",
      "Paso 5: Se movio hacia arriba. \n",
      "Paso 6: Se movio hacia abajo. \n",
      "Paso 7: Se movio hacia derecha. \n",
      "Paso 8: Se movio hacia arriba. \n",
      "Paso 9: Se movio hacia abajo. \n",
      "Paso 10: Se movio hacia derecha. \n",
      "limpio limpio\n",
      "limpio limpio\n",
      "\n"
     ]
    }
   ],
   "source": [
    "aspiradora.limpiar(entorno)"
   ]
  },
  {
   "cell_type": "code",
   "execution_count": null,
   "metadata": {},
   "outputs": [],
   "source": []
  }
 ],
 "metadata": {
  "kernelspec": {
   "display_name": "base",
   "language": "python",
   "name": "python3"
  },
  "language_info": {
   "codemirror_mode": {
    "name": "ipython",
    "version": 3
   },
   "file_extension": ".py",
   "mimetype": "text/x-python",
   "name": "python",
   "nbconvert_exporter": "python",
   "pygments_lexer": "ipython3",
   "version": "3.11.5"
  }
 },
 "nbformat": 4,
 "nbformat_minor": 2
}
